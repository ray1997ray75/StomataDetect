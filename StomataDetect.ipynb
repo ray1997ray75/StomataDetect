{
 "cells": [
  {
   "cell_type": "markdown",
   "metadata": {},
   "source": [
    "##### If  you haven't  installed packages , execute following script cell"
   ]
  },
  {
   "cell_type": "code",
   "execution_count": null,
   "metadata": {},
   "outputs": [],
   "source": [
    "# Install the pytorch and ultralytics \n",
    "%pip install -U ultralytics\n",
    "%pip install torch torchvision torchaudio\n",
    "%pip install pandas"
   ]
  },
  {
   "cell_type": "code",
   "execution_count": 3,
   "metadata": {},
   "outputs": [
    {
     "name": "stdout",
     "output_type": "stream",
     "text": [
      "Ultralytics YOLOv8.1.0 🚀 Python-3.10.13 torch-2.1.0+cu121 CUDA:0 (NVIDIA GeForce RTX 4060 Ti, 7937MiB)\n",
      "Setup complete ✅ (16 CPUs, 31.1 GB RAM, 364.7/915.3 GB disk)\n"
     ]
    }
   ],
   "source": [
    "\n",
    "import ultralytics \n",
    "#import cv2\n",
    "import pandas as pd\n",
    "from distutils.dir_util import copy_tree\n",
    "import os\n",
    "# Check  GPU  and pytorch works\n",
    "ultralytics.checks()\n",
    "\n",
    "# It should list GPU device ex:  \n",
    "# Ultralytics YOLOv8.1.0 🚀 Python-3.10.13 torch-2.1.0+cu121 CUDA:0 (NVIDIA GeForce RTX 4060 Ti, 7937MiB)\n",
    "# Setup complete ✅ (16 CPUs, 31.1 GB RAM, 358.8/915.3 GB disk)"
   ]
  },
  {
   "cell_type": "code",
   "execution_count": null,
   "metadata": {},
   "outputs": [],
   "source": [
    "from ultralytics import YOLO\n",
    "import os\n",
    "\n",
    "# Put pretrain model weights in this file\n",
    "model = YOLO('./T22+T32.pt')\n",
    "\n",
    "\n",
    "# Put data in Images folder \n",
    "results = model.predict( './Images',save=True,save_crop = False,save_txt = True,save_conf = True)  # predict on an image\n",
    "\n"
   ]
  },
  {
   "cell_type": "code",
   "execution_count": 8,
   "metadata": {},
   "outputs": [
    {
     "name": "stdout",
     "output_type": "stream",
     "text": [
      "/home/ray\n"
     ]
    }
   ],
   "source": []
  },
  {
   "cell_type": "code",
   "execution_count": 13,
   "metadata": {},
   "outputs": [],
   "source": [
    "\n",
    "\n",
    "\n",
    "# You can change the folder name of predcit ex : predict1 , predict2 ....\n",
    "# Type your runs folder : \n",
    "labels = [os.path.join('./runs/detect/predict/labels', x) for x in os.listdir('./runs/detect/predict/labels') if x[-3:] == \"txt\"]\n",
    "labels.sort()\n",
    "\n",
    "# Convert and save the labels to csv file\n",
    "\n",
    "for i in labels:\n",
    "\n",
    "  \n",
    "  df = pd.read_csv(i, sep=\" \",header = None)\n",
    "  df.rename(columns= {1:'center_x'},inplace = True)\n",
    "  df.rename(columns= {0:'class'},inplace = True)\n",
    "  df.rename(columns= {2:'center_y'},inplace = True)\n",
    "  df.rename(columns= {3:'width'},inplace = True)\n",
    "  df.rename(columns= {4:'heigh'},inplace = True)\n",
    "  df.rename(columns= {5:'confidence'},inplace = True)\n",
    "  size = df.shape[0]\n",
    "  name = [i.replace('./runs/detect/predict/labels/','').replace('.txt','.jpg') ] * size\n",
    "  df.insert(6, column= 'picture name',value = name )\n",
    "  #df.insert(7, column={'valid/training/testing'},value = 'testing' )\n",
    "  save_name = i.replace('txt','csv')\n",
    "  df.to_csv(save_name, encoding = 'utf-8',index = False)\n",
    "\n",
    "\n"
   ]
  },
  {
   "cell_type": "code",
   "execution_count": null,
   "metadata": {},
   "outputs": [],
   "source": [
    "source_dir = r\"/home/ray/yolov5/runs/detect/predict\"\n",
    "destination_dir = r\"/home/ray/StomataDetect/ResultsOfDetect\"\n",
    "copy_tree(source_dir, destination_dir)"
   ]
  }
 ],
 "metadata": {
  "kernelspec": {
   "display_name": "Python 3",
   "language": "python",
   "name": "python3"
  },
  "language_info": {
   "codemirror_mode": {
    "name": "ipython",
    "version": 3
   },
   "file_extension": ".py",
   "mimetype": "text/x-python",
   "name": "python",
   "nbconvert_exporter": "python",
   "pygments_lexer": "ipython3",
   "version": "3.10.13"
  }
 },
 "nbformat": 4,
 "nbformat_minor": 2
}
