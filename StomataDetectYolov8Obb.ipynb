{
 "cells": [
  {
   "cell_type": "code",
   "execution_count": null,
   "metadata": {},
   "outputs": [],
   "source": [
    "# Install the pytorch and ultralytics \n",
    "%pip install -U ultralytics\n",
    "%pip install torch torchvision torchaudio\n",
    "%pip install pandas"
   ]
  },
  {
   "cell_type": "code",
   "execution_count": null,
   "metadata": {},
   "outputs": [],
   "source": [
    "import ultralytics \n",
    "#import cv2\n",
    "import pandas as pd\n",
    "from distutils.dir_util import copy_tree\n",
    "import os\n",
    "# Check  GPU  and pytorch works\n",
    "ultralytics.checks()\n",
    "\n",
    "# It should list GPU device ex:  \n",
    "# Ultralytics YOLOv8.1.0 🚀 Python-3.10.13 torch-2.1.0+cu121 CUDA:0 (NVIDIA GeForce RTX 4060 Ti, 7937MiB)\n",
    "# Setup complete ✅ (16 CPUs, 31.1 GB RAM, 358.8/915.3 GB disk)"
   ]
  },
  {
   "cell_type": "code",
   "execution_count": null,
   "metadata": {},
   "outputs": [],
   "source": [
    "from ultralytics import YOLO\n",
    "import os\n",
    "\n",
    "# Put pretrain model weights in this file\n",
    "model = YOLO('./weights/K-FoldBest.pt')\n",
    "\n",
    "\n",
    "# Put data in Images folder \n",
    "results = model.predict( './Images',save=True,save_crop = False,save_txt = True,save_conf = True)  # predict on an image"
   ]
  },
  {
   "cell_type": "code",
   "execution_count": null,
   "metadata": {},
   "outputs": [],
   "source": [
    "# You can change the folder name of predcit ex : predict1 , predict2 ....\n",
    "# Type your runs folder : \n",
    "labels = [os.path.join('./runs/obb/predict/labels', x) for x in os.listdir('./runs/obb/predict/labels') if x[-3:] == \"txt\"]\n",
    "labels.sort()\n",
    "\n",
    "# Convert and save the labels to csv file\n",
    "\n",
    "for i in labels:\n",
    "\n",
    "  \n",
    "  df = pd.read_csv(i, sep=\" \",header = None)\n",
    "  df.rename(columns= {0:'class'},inplace = True)\n",
    "  df.rename(columns= {1:'x1'},inplace = True)\n",
    "  df.rename(columns= {2:'y1'},inplace = True)\n",
    "  df.rename(columns= {3:'x2'},inplace = True)\n",
    "  df.rename(columns= {4:'y2'},inplace = True)\n",
    "  df.rename(columns= {5:'x3'},inplace = True)\n",
    "  df.rename(columns= {6:'y3'},inplace = True)\n",
    "  df.rename(columns= {7:'x4'},inplace = True)\n",
    "  df.rename(columns= {8:'y4'},inplace = True)\n",
    "  df.rename(columns= {9:'confidence'},inplace = True)\n",
    "  size = df.shape[0]\n",
    "  name = [i.replace('./runs/obb/predict/labels/','').replace('.txt','.jpg') ] * size\n",
    "  df.insert(6, column= 'picture name',value = name )\n",
    "  save_name = i.replace('txt','csv')\n",
    "  df.to_csv(save_name, encoding = 'utf-8',index = False)"
   ]
  }
 ],
 "metadata": {
  "language_info": {
   "name": "python"
  }
 },
 "nbformat": 4,
 "nbformat_minor": 2
}
